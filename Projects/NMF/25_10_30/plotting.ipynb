{
 "cells": [
  {
   "cell_type": "code",
   "execution_count": 1,
   "metadata": {},
   "outputs": [],
   "source": [
    "import polars as pl\n",
    "import matplotlib.pyplot as plt\n",
    "import seaborn as sns"
   ]
  },
  {
   "cell_type": "code",
   "execution_count": 4,
   "metadata": {},
   "outputs": [],
   "source": [
    "df = pl.read_csv(\"./output/results.csv\")\n",
    "metadata_X = pl.read_csv(\"./output/X_metadata.csv\")\n",
    "df = df.join(metadata_X, on=\"X\")"
   ]
  },
  {
   "cell_type": "code",
   "execution_count": 14,
   "metadata": {},
   "outputs": [
    {
     "data": {
      "text/html": [
       "<div><style>\n",
       ".dataframe > thead > tr,\n",
       ".dataframe > tbody > tr {\n",
       "  text-align: right;\n",
       "  white-space: pre-wrap;\n",
       "}\n",
       "</style>\n",
       "<small>shape: (238, 7)</small><table border=\"1\" class=\"dataframe\"><thead><tr><th>X</th><th>n_components</th><th>mae</th><th>mse</th><th>explained_variance</th><th>n_obs</th><th>n_var</th></tr><tr><td>str</td><td>i64</td><td>f64</td><td>f64</td><td>f64</td><td>i64</td><td>i64</td></tr></thead><tbody><tr><td>&quot;T cells&quot;</td><td>1</td><td>0.045989</td><td>0.411536</td><td>0.029418</td><td>77355</td><td>500</td></tr><tr><td>&quot;T cells&quot;</td><td>2</td><td>0.046145</td><td>0.253343</td><td>0.044818</td><td>77355</td><td>500</td></tr><tr><td>&quot;T cells&quot;</td><td>3</td><td>0.040803</td><td>0.149331</td><td>0.049594</td><td>77355</td><td>500</td></tr><tr><td>&quot;T cells&quot;</td><td>4</td><td>0.038222</td><td>0.111943</td><td>0.051831</td><td>77355</td><td>500</td></tr><tr><td>&quot;T cells&quot;</td><td>5</td><td>0.037411</td><td>0.092857</td><td>0.053911</td><td>77355</td><td>500</td></tr><tr><td>&hellip;</td><td>&hellip;</td><td>&hellip;</td><td>&hellip;</td><td>&hellip;</td><td>&hellip;</td><td>&hellip;</td></tr><tr><td>&quot;Hepatocytes&quot;</td><td>10</td><td>1.985082</td><td>25.057211</td><td>0.300787</td><td>10996</td><td>500</td></tr><tr><td>&quot;Hepatocytes&quot;</td><td>12</td><td>1.94521</td><td>23.68791</td><td>0.302584</td><td>10996</td><td>500</td></tr><tr><td>&quot;Hepatocytes&quot;</td><td>16</td><td>1.865764</td><td>21.313322</td><td>0.307272</td><td>10996</td><td>500</td></tr><tr><td>&quot;Hepatocytes&quot;</td><td>24</td><td>1.715769</td><td>17.777754</td><td>0.315587</td><td>10996</td><td>500</td></tr><tr><td>&quot;Hepatocytes&quot;</td><td>32</td><td>1.597777</td><td>15.207318</td><td>0.324563</td><td>10996</td><td>500</td></tr></tbody></table></div>"
      ],
      "text/plain": [
       "shape: (238, 7)\n",
       "┌─────────────┬──────────────┬──────────┬───────────┬────────────────────┬───────┬───────┐\n",
       "│ X           ┆ n_components ┆ mae      ┆ mse       ┆ explained_variance ┆ n_obs ┆ n_var │\n",
       "│ ---         ┆ ---          ┆ ---      ┆ ---       ┆ ---                ┆ ---   ┆ ---   │\n",
       "│ str         ┆ i64          ┆ f64      ┆ f64       ┆ f64                ┆ i64   ┆ i64   │\n",
       "╞═════════════╪══════════════╪══════════╪═══════════╪════════════════════╪═══════╪═══════╡\n",
       "│ T cells     ┆ 1            ┆ 0.045989 ┆ 0.411536  ┆ 0.029418           ┆ 77355 ┆ 500   │\n",
       "│ T cells     ┆ 2            ┆ 0.046145 ┆ 0.253343  ┆ 0.044818           ┆ 77355 ┆ 500   │\n",
       "│ T cells     ┆ 3            ┆ 0.040803 ┆ 0.149331  ┆ 0.049594           ┆ 77355 ┆ 500   │\n",
       "│ T cells     ┆ 4            ┆ 0.038222 ┆ 0.111943  ┆ 0.051831           ┆ 77355 ┆ 500   │\n",
       "│ T cells     ┆ 5            ┆ 0.037411 ┆ 0.092857  ┆ 0.053911           ┆ 77355 ┆ 500   │\n",
       "│ …           ┆ …            ┆ …        ┆ …         ┆ …                  ┆ …     ┆ …     │\n",
       "│ Hepatocytes ┆ 10           ┆ 1.985082 ┆ 25.057211 ┆ 0.300787           ┆ 10996 ┆ 500   │\n",
       "│ Hepatocytes ┆ 12           ┆ 1.94521  ┆ 23.68791  ┆ 0.302584           ┆ 10996 ┆ 500   │\n",
       "│ Hepatocytes ┆ 16           ┆ 1.865764 ┆ 21.313322 ┆ 0.307272           ┆ 10996 ┆ 500   │\n",
       "│ Hepatocytes ┆ 24           ┆ 1.715769 ┆ 17.777754 ┆ 0.315587           ┆ 10996 ┆ 500   │\n",
       "│ Hepatocytes ┆ 32           ┆ 1.597777 ┆ 15.207318 ┆ 0.324563           ┆ 10996 ┆ 500   │\n",
       "└─────────────┴──────────────┴──────────┴───────────┴────────────────────┴───────┴───────┘"
      ]
     },
     "execution_count": 14,
     "metadata": {},
     "output_type": "execute_result"
    }
   ],
   "source": [
    "df"
   ]
  },
  {
   "cell_type": "code",
   "execution_count": 15,
   "metadata": {},
   "outputs": [
    {
     "data": {
      "text/plain": [
       "<Axes: xlabel='n_components', ylabel='explained_variance'>"
      ]
     },
     "execution_count": 15,
     "metadata": {},
     "output_type": "execute_result"
    },
    {
     "data": {
      "image/png": "[encoded data removed]",
      "text/plain": [
       "<Figure size 640x480 with 1 Axes>"
      ]
     },
     "metadata": {},
     "output_type": "display_data"
    }
   ],
   "source": [
    "sns.boxplot(df, x=\"n_components\", y=\"explained_variance\", showfliers=False)"
   ]
  }
 ],
 "metadata": {
  "kernelspec": {
   "display_name": ".venv",
   "language": "python",
   "name": "python3"
  },
  "language_info": {
   "codemirror_mode": {
    "name": "ipython",
    "version": 3
   },
   "file_extension": ".py",
   "mimetype": "text/x-python",
   "name": "python",
   "nbconvert_exporter": "python",
   "pygments_lexer": "ipython3",
   "version": "3.13.3"
  }
 },
 "nbformat": 4,
 "nbformat_minor": 2
}
